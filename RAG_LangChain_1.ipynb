{
 "cells": [
  {
   "cell_type": "markdown",
   "metadata": {
    "id": "fCNc6--KLboh"
   },
   "source": [
    "#LangChain\n",
    "Framework for RAG\n",
    "\n",
    "-helps augment LLMs\n",
    "-provides context source (reducing hallucinations)\n",
    "-works well with unstructured data"
   ]
  },
  {
   "cell_type": "markdown",
   "metadata": {
    "id": "ISWLglLOissj"
   },
   "source": [
    "# install libraries or dependencies"
   ]
  },
  {
   "cell_type": "code",
   "execution_count": null,
   "metadata": {
    "colab": {
     "base_uri": "https://localhost:8080/"
    },
    "id": "b5FykBMYLZLZ",
    "outputId": "517292d6-3539-48c8-9b04-83cd7a49d988"
   },
   "outputs": [],
   "source": [
    "\n",
    "# !pip install --upgrade pyarrow\n",
    "!pip uninstall -y pyarrow==17.0.0\n",
    "!pip install pyarrow==15.0.0\n",
    "!pip uninstall -y ragas\n",
    "!pip install -q ragas\n",
    "\n",
    "!pip install -q langchain\\\n",
    "langchain_community\\\n",
    "langchain_chroma\\\n",
    "langchain-openai\\\n",
    "langchain-google-vertexai\\\n",
    "langchain-google-genai\n",
    "\n"
   ]
  },
  {
   "cell_type": "markdown",
   "metadata": {
    "id": "T6DsFo3Xi73a"
   },
   "source": [
    "# import modules and methods"
   ]
  },
  {
   "cell_type": "code",
   "execution_count": null,
   "metadata": {
    "colab": {
     "base_uri": "https://localhost:8080/"
    },
    "id": "pe4jgAXYhVt9",
    "outputId": "f3d19087-9922-435b-ebf7-a8ee94ba4589"
   },
   "outputs": [],
   "source": [
    "import bs4\n",
    "from langchain import hub\n",
    "from langchain_community.document_loaders import WebBaseLoader\n",
    "from langchain_text_splitters import RecursiveCharacterTextSplitter\n",
    "from langchain_google_genai import GoogleGenerativeAIEmbeddings, GoogleGenerativeAI\n",
    "from langchain_google_vertexai import ChatVertexAI\n",
    "from langchain_chroma import Chroma\n",
    "from langchain_core.output_parsers import StrOutputParser\n",
    "from langchain_core.runnables import RunnablePassthrough\n",
    "from langchain_core.prompts import ChatPromptTemplate, MessagesPlaceholder\n",
    "from langchain.chains import create_history_aware_retriever, create_retrieval_chain\n",
    "from langchain.chains.combine_documents import create_stuff_documents_chain\n",
    "from langchain_core.runnables.history import RunnableWithMessageHistory\n",
    "from langchain_core.chat_history import BaseChatMessageHistory\n",
    "from langchain_community.chat_message_histories import ChatMessageHistory\n",
    "\n",
    "from ragas.metrics import (context_recall, context_precision, faithfulness, answer_correctness,)\n",
    "from ragas import evaluate"
   ]
  },
  {
   "cell_type": "code",
   "execution_count": null,
   "metadata": {
    "id": "Oa7onjccEdgP"
   },
   "outputs": [],
   "source": [
    "# accessing hidden api key\n",
    "from google.colab import userdata\n",
    "api_key = userdata.get('GOOGLE_API_KEY')"
   ]
  },
  {
   "cell_type": "markdown",
   "metadata": {
    "id": "xm83igZzrkFu"
   },
   "source": [
    "# configure google API key"
   ]
  },
  {
   "cell_type": "code",
   "execution_count": null,
   "metadata": {
    "id": "2qBJby4-riuI"
   },
   "outputs": [],
   "source": [
    "# import os\n",
    "import google.generativeai as genai\n",
    "\n",
    "# Explicitly configure the API key\n",
    "genai.configure(api_key = api_key)"
   ]
  },
  {
   "cell_type": "markdown",
   "metadata": {
    "id": "OwJuhbqPjIIQ"
   },
   "source": [
    "# define the data or documents"
   ]
  },
  {
   "cell_type": "code",
   "execution_count": null,
   "metadata": {
    "id": "4tWYRUSouyFg"
   },
   "outputs": [],
   "source": [
    "data_1 = \"https://www.who.int/news-room/fact-sheets/detail/ebola-virus-disease\" # fact-sheets\n",
    "data_2 = \"https://www.who.int/health-topics/ebola#tab=tab_1\"                    # overview\n",
    "data_3 = \"https://www.who.int/health-topics/ebola#tab=tab_2\"                   # symptoms\n",
    "data_4 = \"https://www.who.int/health-topics/ebola#tab=tab_3\"                # treatment and prevention\n",
    "data_5 = \"https://www.who.int/news-room/questions-and-answers/item/ebola-virus-disease\"     # questions and answers\n",
    "data_6 = \"https://www.who.int/news/item/23-12-2016-final-trial-results-confirm-ebola-vaccine-provides-high-protection-against-disease\"  # vaccine testimony\n",
    "data_7 = \"https://www.who.int/news/item/12-04-2019-ebola-vaccine-candidates-reviewed\" # vaccine candidate review\n",
    "data_8 = \"https://www.who.int/news/item/26-11-2018-democratic-republic-of-the-congo-begins-first-ever-multi-drug-ebola-trial\"   # multi-drug trial\n",
    "data_9 = \"https://www.who.int/news/item/09-12-2022-ebola-trial-candidate-vaccines-arrive-in-uganda-in-record-79-days-after-outbreak-declared\"  # vaccines arrive in Uganda\n",
    "data_10 = \"https://www.who.int/emergencies/situations/ebola-uganda-2022\"   # uganda 2022 situation or outbreak\n",
    "data_11 = \"https://www.afro.who.int/countries/uganda/news/uganda-declares-end-ebola-disease-outbreak\"   #Uganda declare end of outbreak\n",
    "data_12 = \"https://www.who.int/news/item/03-11-2022-global-health-agencies-outline-plan-to-support-ugandan-government-led-response-to-outbreak-of-ebola-virus-disease\" # Global health agencies\n",
    "data_13 = \"https://www.afro.who.int/countries/uganda/news/ministry-health-and-development-partners-tour-ebola-treatment-units-strengthen-response-preparedness\" # health ministry tours\n",
    "data_14 = \"https://www.afro.who.int/countries/uganda/news/african-health-ministers-take-steps-curb-ebola-disease-outbreak\"  # Africa health ministers\n",
    "data_15 = \"https://www.afro.who.int/countries/uganda/news/contact-tracers-and-village-health-teams-take-ebola-uganda?country=879&name=Uganda\"  # ugandan contact tracers\n",
    "data_16 = \"https://www.afro.who.int/news/preventive-ebola-vaccination-safeguards-health-workers-democratic-republic-congo\"  # vaccine protection for DRC health workers\n",
    "data_17 = \"https://www.afro.who.int/countries/liberia/news/halting-spread-ebola-through-sexual-transmission\" # halting sexual spread\n",
    "data_18 = \"https://openwho.org/courses/knowledge-resources-ebola\"   # ebola course 1\n",
    "data_19 = \"https://openwho.org/courses/ebola-clinical-management\"   # ebola course 2\n",
    "data_20 = \"https://openwho.org/courses/e-protect\"      # ebola course 3\n",
    "data_21 = \"https://openwho.org/courses/GO-en\"           # ebola course 4\n",
    "data_22 = \"https://www.who.int/emergencies/situations/ebola-%C3%A9quateur-province-democratic-republic-of-the-congo-2022\" # DRC 2022 outbreak\n",
    "data_23 = \"https://www.who.int/emergencies/disease-outbreak-news/item/2022-DON411\"  # DRC ebola outbreak news\n",
    "data_24 = \"https://www.who.int/emergencies/situations/ebola-2021-nzerekore-guinea\" # Guinea outbreak\n",
    "data_25 = \"https://www.cdc.gov/ebola/about/index.html#:~:text=Ebola%20disease%20is%20caused%20by,as%2080%20to%2090%20percent.\"  # overview CDC\n",
    "data_26 = \"https://www.cdc.gov/ebola/signs-symptoms/index.html\"  # symptoms CDC\n",
    "data_27 = \"https://www.cdc.gov/ebola/causes/index.html\"  # transmission CDC\n",
    "data_28 = \"https://www.cdc.gov/ebola/hcp/clinical-guidance/clinical-guidance-for-neonates-born-to-patients-with-suspected-or-confirmed-ebola-disease.html\" # ebola and neonates CDC\n",
    "data_29 = \"https://www.cdc.gov/ebola/hcp/clinical-guidance/clinical-guidance-for-ebola-in-people-who-are-pregnant.html\"  # ebola and pregnancy CDC\n",
    "data_30 = \"https://en.wikipedia.org/wiki/Ebola\"      # ebola wikipedia\n",
    "data_31 = \"https://en.wikipedia.org/wiki/Ebola_vaccine\"  # ebola vaccine wikipedia\n",
    "data_32 = \"https://en.wikipedia.org/wiki/Research_in_management_of_Ebola\"  # ebola research wikipedia\n",
    "\n"
   ]
  },
  {
   "cell_type": "code",
   "execution_count": null,
   "metadata": {
    "colab": {
     "base_uri": "https://localhost:8080/"
    },
    "id": "M8S5C9DLvrST",
    "outputId": "6808d798-90b2-4a2e-b934-e283788798e0"
   },
   "outputs": [],
   "source": [
    "loader = WebBaseLoader(\n",
    "    web_paths=(data_1, data_2, data_3, data_4, data_6, data_7, data_8, data_9, data_10, data_11, data_12, data_13, data_14, data_15, data_16, data_17,\n",
    "               data_22, data_23, data_24, data_25, data_26, data_27, data_28, data_29),   # yet to add wikipedia data and the courses and data_5\n",
    "    bs_kwargs=dict(\n",
    "        parse_only=bs4.SoupStrainer()\n",
    "    ),\n",
    ")\n",
    "docs = loader.load()\n",
    "docs"
   ]
  },
  {
   "cell_type": "code",
   "execution_count": null,
   "metadata": {
    "colab": {
     "base_uri": "https://localhost:8080/"
    },
    "id": "plnSBgJY1xpG",
    "outputId": "4a16950a-d088-41dd-a2ce-65a3059220f5"
   },
   "outputs": [],
   "source": [
    "# refine or format the loaded docs\n",
    "\n",
    "def clean_docs(docs):\n",
    "    for doc in docs:\n",
    "        doc.page_content = doc.page_content.replace(\"\\n\", \"\").replace(\"\\t\", \"\").replace(\"\\r\", \"\")\n",
    "    return docs\n",
    "\n",
    "\n",
    "cleaned_docs = clean_docs(docs)\n",
    "\n",
    "\n",
    "def format_docs(docs):\n",
    "    return [doc.page_content for doc in docs]\n",
    "\n",
    "\n",
    "formatted_docs = format_docs(cleaned_docs)\n",
    "formatted_docs\n"
   ]
  },
  {
   "cell_type": "code",
   "execution_count": null,
   "metadata": {
    "colab": {
     "base_uri": "https://localhost:8080/"
    },
    "id": "HhjDqlEsqo8v",
    "outputId": "8672063d-1ce7-4231-9d61-2659528b28f0"
   },
   "outputs": [],
   "source": [
    "def split_docs(doc_to_split):\n",
    "  text_splitter = RecursiveCharacterTextSplitter(\n",
    "    chunk_size=1000,\n",
    "    chunk_overlap=200,\n",
    "    add_start_index=True,\n",
    "  )\n",
    "  return text_splitter.split_documents(doc_to_split)\n",
    "\n",
    "\n",
    "#len(splitted_docs) helps to see length of splitted documents\n",
    "spliitted_docs = split_docs(cleaned_docs)\n",
    "spliitted_docs"
   ]
  },
  {
   "cell_type": "markdown",
   "metadata": {
    "id": "vId_BJlXr0L8"
   },
   "source": [
    "# create and store embeddings"
   ]
  },
  {
   "cell_type": "code",
   "execution_count": null,
   "metadata": {
    "id": "a7D6Fe2ksVfH"
   },
   "outputs": [],
   "source": [
    "def store_embeddings(docs_to_embed):\n",
    "  vectorstore = Chroma.from_documents(\n",
    "    documents=docs_to_embed,\n",
    "    embedding=GoogleGenerativeAIEmbeddings(google_api_key=api_key, model=\"models/embedding-001\"),\n",
    "  )\n",
    "\n",
    "  return vectorstore\n",
    "\n",
    "\n",
    "vectorstore = store_embeddings(spliitted_docs)"
   ]
  },
  {
   "cell_type": "markdown",
   "metadata": {
    "id": "zkcoM4WsvXRQ"
   },
   "source": [
    "# retrieve documents"
   ]
  },
  {
   "cell_type": "code",
   "execution_count": null,
   "metadata": {
    "colab": {
     "base_uri": "https://localhost:8080/"
    },
    "id": "2wyYDxa1MQen",
    "outputId": "9bb3aae5-ba03-4df0-b5cc-1c1e8301bb5d"
   },
   "outputs": [],
   "source": [
    "retriever = vectorstore.as_retriever(\n",
    "        search_type=\"similarity\",\n",
    "        search_kwargs={\"k\": 3}\n",
    "        )\n",
    "user_query = \"when did first ebola case happened?\"\n",
    "\n",
    "\n",
    "retrieved_docs = retriever.invoke(user_query)\n",
    "retrieved_docs"
   ]
  },
  {
   "cell_type": "code",
   "execution_count": null,
   "metadata": {
    "colab": {
     "base_uri": "https://localhost:8080/"
    },
    "id": "lLDULR3d2CH0",
    "outputId": "1e2773fd-071f-4255-ff1c-8dafcd38c021"
   },
   "outputs": [],
   "source": [
    "print(retrieved_docs[0].page_content)"
   ]
  },
  {
   "cell_type": "code",
   "execution_count": null,
   "metadata": {
    "id": "dmj6_ih-VfsI"
   },
   "outputs": [],
   "source": [
    "llm = GoogleGenerativeAI(\n",
    "    google_api_key=api_key, model=\"gemini-1.5-flash\",\n",
    "    temperature=0.6\n",
    ")"
   ]
  },
  {
   "cell_type": "code",
   "execution_count": null,
   "metadata": {
    "id": "4RQUto6bFKge"
   },
   "outputs": [],
   "source": [
    "# this prompt helps to formulate query for retrieving documents with past conversation in mind\n",
    "history_retriever_prompt = ChatPromptTemplate.from_messages(\n",
    "    [\n",
    "        (\"system\",  \"Given a chat history and the latest user question \"\n",
    "    \"which might reference context in the chat history, \"\n",
    "    \"formulate a standalone question which can be understood \"\n",
    "    \"without the chat history. Do NOT answer the question, \"\n",
    "    \"just reformulate it if needed and otherwise return it as is.\"),\n",
    "        MessagesPlaceholder(variable_name=\"chat_history\"),\n",
    "        (\"human\", \"{input}\"),\n",
    "    ]\n",
    ")\n",
    "\n",
    "# use the formulated query for retrieving from past conversation and original documents\n",
    "history_aware_retriever = create_history_aware_retriever(\n",
    "    llm,\n",
    "    retriever,\n",
    "    history_retriever_prompt\n",
    ")\n"
   ]
  },
  {
   "cell_type": "code",
   "execution_count": null,
   "metadata": {
    "id": "b7EDsHZRMLKM"
   },
   "outputs": [],
   "source": [
    "# this prompt tells the llm to answer questions based on a users question and retrieved context with history if there is\n",
    "main_prompt = ChatPromptTemplate.from_messages(\n",
    "    [\n",
    "        (\"system\", \"\"\"\n",
    "    You are ChatEbola, an AI assistant specialized in answering questions and offering understanding about Ebola.\n",
    "    You were developed by Simeon Krah as a RAG system based on google's gemini models.\n",
    "    Use the following pieces of retrieved context to answer the question.\n",
    "    If you don't know the answer, just say that you don't know.\n",
    "    {context}\n",
    "    \"\"\"),\n",
    "        MessagesPlaceholder(\"chat_history\"),\n",
    "        (\"human\", \"{input}\")\n",
    "    ]\n",
    "\n",
    ")\n",
    "\n",
    "# create a chain to specify how the retrieved context is fed into prompt\n",
    "question_answer_chain = create_stuff_documents_chain(llm, main_prompt)\n",
    "\n",
    "# create a retrieval chain (putting all together)\n",
    "rag_chain = create_retrieval_chain(history_aware_retriever, question_answer_chain)"
   ]
  },
  {
   "cell_type": "code",
   "execution_count": null,
   "metadata": {
    "id": "WS5mjTGWWTWT"
   },
   "outputs": [],
   "source": [
    "store = {}\n",
    "\n",
    "def get_session_history(session_id: str) -> BaseChatMessageHistory:\n",
    "    if session_id not in store:\n",
    "        store[session_id] = ChatMessageHistory()\n",
    "    return store[session_id]\n",
    "\n",
    "# conversation chain that takes session id into consideration and interact with history in mind\n",
    "final_rag_chain = RunnableWithMessageHistory(\n",
    "    rag_chain,\n",
    "    get_session_history,\n",
    "    input_messages_key=\"input\",\n",
    "    history_messages_key=\"chat_history\",\n",
    "    output_messages_key=\"answer\",\n",
    ")"
   ]
  },
  {
   "cell_type": "code",
   "execution_count": null,
   "metadata": {
    "colab": {
     "base_uri": "https://localhost:8080/"
    },
    "id": "tTVHFmew6Q4M",
    "outputId": "9a88b43d-8f34-451e-a665-8d18b36164fd"
   },
   "outputs": [],
   "source": [
    "\n",
    "final_rag_chain.invoke(\n",
    "    {\"input\": \"what is ebola\"},\n",
    "    config={\n",
    "        \"configurable\": {\"session_id\": \"any\"}\n",
    "    },  # constructs a key \"any\" in `store`.\n",
    ")"
   ]
  },
  {
   "cell_type": "code",
   "execution_count": null,
   "metadata": {
    "colab": {
     "base_uri": "https://localhost:8080/"
    },
    "id": "TYtOOCYO_sE6",
    "outputId": "b274f2ee-8aea-46bb-99e4-c0b444f2840b"
   },
   "outputs": [],
   "source": [
    "answers = []\n",
    "context = []\n",
    "\n",
    "questions = [\n",
    "    \"What is Ebola virus disease?\",\n",
    "    # \"How do people become infected with the Ebola virus?\",\n",
    "    \"Who is most at risk?\",\n",
    "    \"Why are mourners at burial ceremonies considered at risk of contracting Ebola?\",\n",
    "    \"Why are health-care workers at greater risk of catching Ebola?\",\n",
    "    # \"Can Ebola be transmitted sexually?\",\n",
    "    \"What are the typical signs and symptoms of Ebola virus infection?\",\n",
    "    \"How long does it take for people to develop symptoms after being infected?\"\n",
    "\n",
    "    ]\n",
    "\n",
    "\n",
    "\n",
    "\n",
    "for question in questions:\n",
    "  operation = final_rag_chain.invoke(\n",
    "    {\"input\": question},\n",
    "    config={\n",
    "        \"configurable\": {\"session_id\": \"ab13\"}\n",
    "    },  # constructs a key \"any\" in `store`.\n",
    "    )\n",
    "  answers.append(operation[\"answer\"])\n",
    "  context.append(operation[\"context\"][0].page_content)\n",
    "\n",
    "\n",
    "print (answers)\n",
    "print (context)\n",
    "\n"
   ]
  },
  {
   "cell_type": "code",
   "execution_count": null,
   "metadata": {
    "colab": {
     "base_uri": "https://localhost:8080/",
     "height": 341
    },
    "id": "aBRFsRtoCW0O",
    "outputId": "a20b6f88-1f81-4dfa-e557-a03c487bad3f"
   },
   "outputs": [],
   "source": [
    "import pandas as pd\n",
    "# context = [[\"StatisticsAbout WHOAbout WHOPartnershipsCommittees and advisory groupsCollaborating centresTechnical teamsOrganizational structureWho we areOur workActivitiesInitiativesGeneral Programme of WorkWHO AcademyFundingInvestment in WHOWHO FoundationAccountabilityExternal auditFinancial statementsInternal audit and investigations Programme BudgetResults reportsGovernanceGoverning bodiesWorld Health AssemblyExecutive BoardMember States Portal Home/Health topics/Ebola virus disease World Bank Group/ V.Tremeau Community representatives come to visit a family in the outskirts of Beni to raise awareness about Ebola. ©Credits Ebola virus disease Overview Ebola virus disease (EVD), formerly known as Ebola haemorrhagic fever, is a severe, often fatal illness affecting humans and other primates.The virus is transmitted to people from wild animals (such as fruit bats, porcupines and non-human primates) and then spreads in the\"], [\"bbaba\"], [\"ebola\"], [\"ebola virus\"]]\n",
    "data = {'question': questions, 'retrieved_contexts': context, 'answer': answers}\n",
    "df = pd.DataFrame(data)\n",
    "df[\"ground_truth\"] = [\n",
    "     \"\"\"Ebola virus disease (formerly known as Ebola haemorrhagic fever) is a rare but severe, often fatal , often fatal illness,\n",
    "        with a death rate of up to 90% in humans caused by the Ebola virus, a member of the filovirus family. Death rates have varied from 25% to 90% in past outbreaks.\"\"\",\n",
    "\n",
    "  # \"\"\"People become infected with Ebola either through contact with infected animals (usually following butchering, cooking or eating) or through contact with the bodily\n",
    "  # fluids of infected humans. Most cases are caused by human to human transmission which occurs when blood or other bodily fluids or secretions (stool, urine, saliva,\n",
    "  #  semen) of infected people enters a healthy person’s body through broken skin or mucous membranes.\n",
    "  # Infection can also occur if the broken skin or the mucous membranes of a healthy person comes into contact with items or environments contaminated with bodily fluids\n",
    "  # from an infected person. These may include soiled clothing, bed linen, gloves, protective equipment and medical waste such as used hypodermic syringes.\"\"\",\n",
    "\n",
    "   \"\"\"During an outbreak, those at higher risk of infection are:  health workers;   family members or others in close contact with infected people;\n",
    "    mourners who have direct contact with bodies during burial rituals.\"\"\",\n",
    "\n",
    "  \"\"\"Levels of Ebola virus remain high after death, thus bodies of those who have died from Ebola virus disease must be handled only by people wearing appropriate\n",
    "  personal protective equipment and must be buried immediately. WHO advises that bodies of people who may have died from Ebola virus disease should be handled\n",
    "  only by trained burial teams, who are equipped to properly bury the dead, safely and with dignity.\"\"\",\n",
    "\n",
    "   \"\"\"Health-care workers are at greater risk of infection if they are not wearing correct personal protective equipment (PPE) or are not applying infection\n",
    "    prevention and control (IPC) measures when caring for patients. All health-care providers working at all levels of the health system – hospitals, clinics\n",
    "    and health posts – should be fully informed about the disease and its mode of transmission and should follow recommended precautions strictly.\"\"\",\n",
    "\n",
    "    # \"\"\"Sexual transmission of the Ebola virus, from males to females, is a strong possibility, but has not yet been proven. Less probable, but theoretically possible, is female to male transmission.\n",
    "    #  More surveillance data and research are needed on the risks of sexual transmission, and particularly on the prevalence of viable and transmissible virus in\n",
    "    #  semen over time.\"\"\",\n",
    "\n",
    "     \"\"\"Ebola symptoms vary but sudden onset of fever, intense weakness, muscle pain, headache and sore throat are commonly experienced at the beginning of the disease\n",
    "      (‘the dry phase’). As the disease progresses, people commonly develop vomiting and diarrhoea (‘the wet phase’), rash, impaired kidney and liver function,\n",
    "      and in some cases, both internal and external bleeding.\"\"\",\n",
    "\n",
    "     \"\"\"The incubation period, or the time interval from infection to onset of symptoms, is from 2 to 21 days. People are not contagious until they develop symptoms.\n",
    "     Ebola virus disease infections can only be confirmed through laboratory testing.\"\"\"\n",
    "]\n",
    "\n",
    "df[\"retrieved_contexts\"] = df[\"retrieved_contexts\"].apply(lambda x : [x])\n",
    "# df[\"ground_truth\"] = df[\"ground_truth\"].apply(lambda x : [x])\n",
    "df\n",
    "\n"
   ]
  },
  {
   "cell_type": "code",
   "execution_count": null,
   "metadata": {
    "colab": {
     "base_uri": "https://localhost:8080/"
    },
    "id": "_xbpXl9xfTjj",
    "outputId": "c373e54c-f299-4ff4-a0af-41565fbbfd46"
   },
   "outputs": [],
   "source": [
    "# !pip install -qU datasets\n",
    "from datasets import Dataset\n",
    "eval_dataset = Dataset.from_pandas(df)\n",
    "eval_dataset"
   ]
  },
  {
   "cell_type": "code",
   "execution_count": null,
   "metadata": {
    "colab": {
     "base_uri": "https://localhost:8080/",
     "height": 1000,
     "referenced_widgets": [
      "3cfbc4804b5f4facb62c68bd1983321d",
      "6b04d92d0bb64fb99f7873a5cb6dbc80",
      "919f1c1baae543608561bb770818940d",
      "945d270baeef4e19b3cf148af3b61e2c",
      "632c1785e5ef4713879232c854c138d9",
      "4815d54b8cb148e39cbc22043cdb89ae",
      "b5f564fc8f7346f1aaa41a6d040f49b0",
      "9d65c063a5ae4138b95d0e1cc4a4bc32",
      "ca3275c5d7584c2490f24cbef91d3e23",
      "65c3c3a899eb469eb44b37477bf7702a",
      "1f87ebd8950d4cefa840386fe1633578"
     ]
    },
    "id": "708w7_3uaWgH",
    "outputId": "92a9cf52-079d-4984-a9dd-4a23d5c395f4"
   },
   "outputs": [],
   "source": [
    "scores = evaluate(\n",
    "    eval_dataset,\n",
    "    metrics=[context_recall, context_precision, faithfulness, answer_correctness],\n",
    "    llm = llm,\n",
    "    embeddings=GoogleGenerativeAIEmbeddings(google_api_key=api_key, model=\"models/embedding-001\"),\n",
    ")\n",
    "\n",
    "\n",
    "scores"
   ]
  },
  {
   "cell_type": "code",
   "execution_count": null,
   "metadata": {
    "id": "F-4LIdK9neD_"
   },
   "outputs": [],
   "source": [
    "# # this prompt tells the llm to answer questions based on a users question and retrieved context with history if there is\n",
    "# main_prompt = ChatPromptTemplate.from_template(\n",
    "#     \"\"\"\n",
    "#     You are ChatEbola, an AI assistant specialized in answering questions and offering understanding about Ebola.\n",
    "#     Usually, use the following pieces of retrieved context to answer the question.\n",
    "#     {context}\n",
    "\n",
    "#     When asked something else or something not in the retrieved document, say you do not know.\n",
    "#     If you are asked something very sensitive that you think direct advice is needed from a medical doctor,\n",
    "#     politely tell the user to visit the hospital or consult a doctor.\n",
    "#     Though you're answering based on the context given, you do not necessary have to always say based on the context or material or document while giving the answer.\n",
    "#     You were developed by Simeon Krah as a RAG system based on google's gemini models.\n",
    "\n",
    "# \"\"\"\n",
    "# )"
   ]
  },
  {
   "cell_type": "code",
   "execution_count": null,
   "metadata": {
    "id": "G6bBOT7t8i0V"
   },
   "outputs": [],
   "source": [
    "# def format_docs(docs):\n",
    "#     return \"\\n\\n\".join(doc.page_content for doc in docs)"
   ]
  },
  {
   "cell_type": "code",
   "execution_count": null,
   "metadata": {
    "id": "dmR4Rup8X7Ru"
   },
   "outputs": [],
   "source": [
    "# chain = (\n",
    "#     {\"question\": RunnablePassthrough(), \"context\": retriever | format_docs}\n",
    "#     | prompt\n",
    "#     | llm\n",
    "#     | StrOutputParser()\n",
    "# )"
   ]
  },
  {
   "cell_type": "code",
   "execution_count": null,
   "metadata": {
    "id": "rQCbgpLsvK-D"
   },
   "outputs": [],
   "source": [
    "# import seaborn as sns\n",
    "# import matplotlib.pyplot as plt\n",
    "\n",
    "# # scores data\n",
    "# data = {\n",
    "#   \"Context recall\": 91,\n",
    "#   \"Context precision\": 93,\n",
    "#   \"Faithfulness\": 97,\n",
    "#   \"Answer correctness\": 80,\n",
    "# }\n",
    "\n",
    "# # Convert the dictionary to two lists: metric names and their corresponding values\n",
    "# metrics = list(data.keys())\n",
    "# values = list(data.values())\n",
    "\n",
    "# # Create a bar plot using Seaborn\n",
    "# plt.figure(figsize=(8, 6))\n",
    "# sns.barplot(x=metrics, y=values, hue= metrics)\n",
    "\n",
    "# # Add title and labels\n",
    "# plt.title('Model Evaluation Metrics', fontsize=16)\n",
    "# plt.xlabel('Metrics', fontsize=12)\n",
    "# plt.ylabel('Scores (%)', fontsize=12)\n",
    "\n",
    "# # Display the plot\n",
    "# plt.show()\n"
   ]
  }
 ],
 "metadata": {
  "colab": {
   "provenance": []
  },
  "kernelspec": {
   "display_name": "Python 3",
   "name": "python3"
  },
  "language_info": {
   "name": "python"
  }
 },
 "nbformat": 4,
 "nbformat_minor": 0
}
